{
 "cells": [
  {
   "cell_type": "markdown",
   "metadata": {},
   "source": [
    "### Kaggle's Titanic competition  - by tawonque"
   ]
  },
  {
   "cell_type": "code",
   "execution_count": 1,
   "metadata": {
    "collapsed": false
   },
   "outputs": [],
   "source": [
    "### Modules ###\n",
    "\n",
    "import os\n",
    "import pandas as pd\n",
    "from pandas import Series, DataFrame\n",
    "import numpy as np\n",
    "\n",
    "import matplotlib.pyplot as plt\n",
    "import seaborn as sns\n",
    "sns.set_style('whitegrid')\n",
    "\n",
    "from sklearn.metrics import confusion_matrix\n",
    "\n",
    "from sklearn import preprocessing\n",
    "from sklearn.feature_selection import SelectFromModel\n",
    "from sklearn.cross_validation import cross_val_score\n",
    "from sklearn.cross_validation import StratifiedKFold\n",
    "#from sklearn.model_selection import GridSearchCV\n",
    "\n",
    "from sklearn.linear_model import LogisticRegression\n",
    "from sklearn.svm import SVC, LinearSVC\n",
    "from sklearn.ensemble import RandomForestClassifier\n",
    "from sklearn.ensemble import RandomForestRegressor\n",
    "from sklearn.neighbors import KNeighborsClassifier\n",
    "from sklearn.naive_bayes import GaussianNB\n",
    "\n",
    "%matplotlib inline"
   ]
  },
  {
   "cell_type": "code",
   "execution_count": 2,
   "metadata": {
    "collapsed": false
   },
   "outputs": [
    {
     "data": {
      "text/plain": [
       "'/Users/Tavo'"
      ]
     },
     "execution_count": 2,
     "metadata": {},
     "output_type": "execute_result"
    }
   ],
   "source": [
    "os.getcwd()"
   ]
  },
  {
   "cell_type": "code",
   "execution_count": 3,
   "metadata": {
    "collapsed": false
   },
   "outputs": [
    {
     "name": "stdout",
     "output_type": "stream",
     "text": [
      "<class 'pandas.core.frame.DataFrame'>\n",
      "RangeIndex: 891 entries, 0 to 890\n",
      "Data columns (total 12 columns):\n",
      "PassengerId    891 non-null int64\n",
      "Survived       891 non-null int64\n",
      "Pclass         891 non-null int64\n",
      "Name           891 non-null object\n",
      "Sex            891 non-null object\n",
      "Age            714 non-null float64\n",
      "SibSp          891 non-null int64\n",
      "Parch          891 non-null int64\n",
      "Ticket         891 non-null object\n",
      "Fare           891 non-null float64\n",
      "Cabin          204 non-null object\n",
      "Embarked       889 non-null object\n",
      "dtypes: float64(2), int64(5), object(5)\n",
      "memory usage: 83.6+ KB\n",
      "o+o+o+o+o+o+o+o\n",
      "<class 'pandas.core.frame.DataFrame'>\n",
      "RangeIndex: 418 entries, 0 to 417\n",
      "Data columns (total 11 columns):\n",
      "PassengerId    418 non-null int64\n",
      "Pclass         418 non-null int64\n",
      "Name           418 non-null object\n",
      "Sex            418 non-null object\n",
      "Age            332 non-null float64\n",
      "SibSp          418 non-null int64\n",
      "Parch          418 non-null int64\n",
      "Ticket         418 non-null object\n",
      "Fare           417 non-null float64\n",
      "Cabin          91 non-null object\n",
      "Embarked       418 non-null object\n",
      "dtypes: float64(2), int64(4), object(5)\n",
      "memory usage: 36.0+ KB\n"
     ]
    }
   ],
   "source": [
    "### Import data ###\n",
    "\n",
    "titanic = pd.read_csv('./Data_science/Titanic/train.csv')\n",
    "test = pd.read_csv('./Data_science/Titanic/test.csv')\n",
    "\n",
    "### Explore and edit input files ###\n",
    "titanic.head()\n",
    "titanic.dtypes\n",
    "\n",
    "test.head()\n",
    "test.dtypes\n",
    "\n",
    "titanic.info()\n",
    "print('o+o+o+o+o+o+o+o')\n",
    "test.info()"
   ]
  },
  {
   "cell_type": "code",
   "execution_count": 4,
   "metadata": {
    "collapsed": false
   },
   "outputs": [
    {
     "data": {
      "text/plain": [
       "<matplotlib.axes._subplots.AxesSubplot at 0x1166282b0>"
      ]
     },
     "execution_count": 4,
     "metadata": {},
     "output_type": "execute_result"
    },
    {
     "data": {
      "image/png": "[encoded data removed]",
      "text/plain": [
       "<matplotlib.figure.Figure at 0x116502b00>"
      ]
     },
     "metadata": {},
     "output_type": "display_data"
    }
   ],
   "source": [
    "###Embarking port###\n",
    "fig = plt.figure(figsize=(20,6))\n",
    "#\n",
    "plt.subplot2grid((1,3), (0,0))\n",
    "sns.countplot(x='Survived', data=titanic)\n",
    "plt.subplot2grid((1,3), (0,1))\n",
    "sns.countplot(x='Embarked', hue='Survived', data=titanic)\n",
    "plt.subplot2grid((1,3), (0,2))\n",
    "sns.countplot(x='Survived', hue='Embarked', data=titanic)"
   ]
  },
  {
   "cell_type": "code",
   "execution_count": 5,
   "metadata": {
    "collapsed": false
   },
   "outputs": [
    {
     "data": {
      "text/plain": [
       "<matplotlib.axes._subplots.AxesSubplot at 0x1165385c0>"
      ]
     },
     "execution_count": 5,
     "metadata": {},
     "output_type": "execute_result"
    },
    {
     "data": {
      "image/png": "[encoded data removed]",
      "text/plain": [
       "<matplotlib.figure.Figure at 0x11670d9b0>"
      ]
     },
     "metadata": {},
     "output_type": "display_data"
    }
   ],
   "source": [
    "#For some reason there is a higher survival rate for the passengers embarked in C. Perhpas is an artefact \n",
    "#related either to the number of passengers embarked (less representative sample) or the fares paid (more rich passengers \n",
    "#embarking here or there. See Pclass analysis below)\n",
    "\n",
    "embark_percent_titanic = titanic[['Embarked', 'Survived']].groupby(['Embarked'],\\\n",
    "as_index=False).mean()\n",
    "#\n",
    "sns.barplot(x='Embarked', y='Survived', data=embark_percent_titanic,order=['S','C','Q'])"
   ]
  },
  {
   "cell_type": "code",
   "execution_count": 6,
   "metadata": {
    "collapsed": false
   },
   "outputs": [],
   "source": [
    "#Embarking port should not have any prediction power per se, but let's leave it just\n",
    "#in case and create some dummy variables\n",
    "embark_dummies_titanic  = pd.get_dummies(titanic['Embarked'])\n",
    "titanic = titanic.join(embark_dummies_titanic)\n",
    "#titanic = titanic.drop(['Embarked'], axis=1, inplace=True)\n",
    "embark_dummies_test  = pd.get_dummies(test['Embarked'])\n",
    "test = test.join(embark_dummies_test)"
   ]
  },
  {
   "cell_type": "code",
   "execution_count": 7,
   "metadata": {
    "collapsed": false
   },
   "outputs": [
    {
     "data": {
      "text/plain": [
       "(array([ 519.,  197.,   55.,   47.,   20.,   15.,    7.,    9.,    2.,\n",
       "           0.,    5.,    4.,    8.,    0.,    0.,    0.,    0.,    0.,\n",
       "           0.,    0.,    0.,    0.,    0.,    0.,    3.]),\n",
       " array([   0.      ,   20.493168,   40.986336,   61.479504,   81.972672,\n",
       "         102.46584 ,  122.959008,  143.452176,  163.945344,  184.438512,\n",
       "         204.93168 ,  225.424848,  245.918016,  266.411184,  286.904352,\n",
       "         307.39752 ,  327.890688,  348.383856,  368.877024,  389.370192,\n",
       "         409.86336 ,  430.356528,  450.849696,  471.342864,  491.836032,\n",
       "         512.3292  ]),\n",
       " <a list of 25 Patch objects>)"
      ]
     },
     "execution_count": 7,
     "metadata": {},
     "output_type": "execute_result"
    },
    {
     "data": {
      "image/png": "[encoded data removed]",
      "text/plain": [
       "<matplotlib.figure.Figure at 0x10323e6d8>"
      ]
     },
     "metadata": {},
     "output_type": "display_data"
    }
   ],
   "source": [
    "###Fare###\n",
    "#Average fare for survivors and victims\n",
    "mean_fare_survive = titanic[['Fare', 'Survived']].groupby(['Survived']).mean()#Histograms of fares\n",
    "plt.hist(titanic['Fare'],bins=25)"
   ]
  },
  {
   "cell_type": "code",
   "execution_count": 8,
   "metadata": {
    "collapsed": false
   },
   "outputs": [
    {
     "data": {
      "text/plain": [
       "<matplotlib.axes._subplots.AxesSubplot at 0x118519ba8>"
      ]
     },
     "execution_count": 8,
     "metadata": {},
     "output_type": "execute_result"
    },
    {
     "data": {
      "image/png": "[encoded data removed]",
      "text/plain": [
       "<matplotlib.figure.Figure at 0x117746da0>"
      ]
     },
     "metadata": {},
     "output_type": "display_data"
    }
   ],
   "source": [
    "##Histograms of fares and other plots\n",
    "fig = plt.figure(figsize=(20,10))\n",
    "#\n",
    "plt.subplot2grid((2,1), (0,0))\n",
    "plt.hist(titanic['Fare'],bins=25, log=True) #Log turned on just to exagerate the less frequent values\n",
    "plt.subplot2grid((2,3), (1,0))\n",
    "sns.boxplot(x='Survived', y='Fare', data=titanic)\n",
    "plt.subplot2grid((2,3), (1,1))\n",
    "sns.boxplot(x='Survived', y=np.log(titanic.Fare), data=titanic) ##Log turned on just for exageration\n",
    "plt.subplot2grid((2,3), (1,2))\n",
    "sns.violinplot(x='Survived', y='Fare', data=titanic)"
   ]
  },
  {
   "cell_type": "code",
   "execution_count": 9,
   "metadata": {
    "collapsed": true
   },
   "outputs": [],
   "source": [
    "###Age###\n",
    "\n",
    "survived_age = titanic[titanic.Survived == 1].Age\n",
    "dead_age = titanic[titanic.Survived == 0].Age"
   ]
  },
  {
   "cell_type": "code",
   "execution_count": 10,
   "metadata": {
    "collapsed": false,
    "scrolled": false
   },
   "outputs": [
    {
     "data": {
      "text/plain": [
       "<matplotlib.axes._subplots.AxesSubplot at 0x118e35e48>"
      ]
     },
     "execution_count": 10,
     "metadata": {},
     "output_type": "execute_result"
    },
    {
     "data": {
      "image/png": "[encoded data removed]",
      "text/plain": [
       "<matplotlib.figure.Figure at 0x118ef3a90>"
      ]
     },
     "metadata": {},
     "output_type": "display_data"
    }
   ],
   "source": [
    "##Histograms and other plots\n",
    "fig = plt.figure(figsize=(20,10))\n",
    "#\n",
    "plt.subplot2grid((1,2), (0,0))\n",
    "#plt.hist([survived_age, dead_age], stacked=True, align='left', range=(0,100), color = ['b','r'], bins=100)\n",
    "plt.hist(titanic['Age'], align='left', range=(0,100), bins=100)\n",
    "plt.subplot2grid((1,2), (0,1))\n",
    "sns.violinplot(x='Survived', y='Age', data=titanic, ylim=(0,100))"
   ]
  },
  {
   "cell_type": "code",
   "execution_count": 11,
   "metadata": {
    "collapsed": true
   },
   "outputs": [],
   "source": [
    "#Notice that the survival rate of children (<15 y) and old people (>60 y)\n",
    "#We should perhaps separate these two groups and make an indicator variable for each. *See Sex category below"
   ]
  },
  {
   "cell_type": "code",
   "execution_count": 12,
   "metadata": {
    "collapsed": false,
    "scrolled": false
   },
   "outputs": [
    {
     "name": "stderr",
     "output_type": "stream",
     "text": [
      "/Users/Tavo/anaconda3/lib/python3.5/site-packages/pandas/core/indexing.py:132: SettingWithCopyWarning: \n",
      "A value is trying to be set on a copy of a slice from a DataFrame\n",
      "\n",
      "See the caveats in the documentation: http://pandas.pydata.org/pandas-docs/stable/indexing.html#indexing-view-versus-copy\n",
      "  self._setitem_with_indexer(indexer, value)\n"
     ]
    },
    {
     "data": {
      "text/plain": [
       "<matplotlib.axes._subplots.AxesSubplot at 0x118e09278>"
      ]
     },
     "execution_count": 12,
     "metadata": {},
     "output_type": "execute_result"
    },
    {
     "data": {
      "image/png": "[encoded data removed]",
      "text/plain": [
       "<matplotlib.figure.Figure at 0x11974f278>"
      ]
     },
     "metadata": {},
     "output_type": "display_data"
    }
   ],
   "source": [
    "###Family###\n",
    "#Parents and children\n",
    "survived_Parch = titanic[titanic.Survived == 1].Parch.dropna()\n",
    "dead_Parch = titanic[titanic.Survived == 0].Parch.dropna()\n",
    "\n",
    "titanic['ParchIO'] = titanic['Parch']\n",
    "titanic['ParchIO'].loc[titanic['Parch'] > 0] = 1\n",
    "titanic['ParchIO'].loc[titanic['Parch'] == 0] = 0\n",
    "Parch_percent = titanic[['Survived', 'ParchIO']].groupby(['ParchIO'], as_index=False).mean()\n",
    "\n",
    "test['ParchIO'] = test['Parch']\n",
    "test['ParchIO'].loc[test['Parch'] > 0] = 1\n",
    "test['ParchIO'].loc[test['Parch'] == 0] = 0\n",
    "\n",
    "fig = plt.figure(figsize=(20,7))\n",
    "#\n",
    "plt.subplot2grid((1,2), (0,0))\n",
    "plt.hist([survived_Parch, dead_Parch], stacked=True, align='left', range=(0,10), bins=10)\n",
    "plt.subplot2grid((1,2), (0,1))\n",
    "sns.barplot(x='ParchIO', y='Survived', data=Parch_percent)"
   ]
  },
  {
   "cell_type": "code",
   "execution_count": 13,
   "metadata": {
    "collapsed": false,
    "scrolled": false
   },
   "outputs": [
    {
     "name": "stderr",
     "output_type": "stream",
     "text": [
      "/Users/Tavo/anaconda3/lib/python3.5/site-packages/pandas/core/indexing.py:132: SettingWithCopyWarning: \n",
      "A value is trying to be set on a copy of a slice from a DataFrame\n",
      "\n",
      "See the caveats in the documentation: http://pandas.pydata.org/pandas-docs/stable/indexing.html#indexing-view-versus-copy\n",
      "  self._setitem_with_indexer(indexer, value)\n"
     ]
    },
    {
     "data": {
      "text/plain": [
       "<matplotlib.axes._subplots.AxesSubplot at 0x119066748>"
      ]
     },
     "execution_count": 13,
     "metadata": {},
     "output_type": "execute_result"
    },
    {
     "data": {
      "image/png": "[encoded data removed]",
      "text/plain": [
       "<matplotlib.figure.Figure at 0x1185db908>"
      ]
     },
     "metadata": {},
     "output_type": "display_data"
    }
   ],
   "source": [
    "#Siblings and spouse\n",
    "survived_SibSp = titanic[titanic.Survived == 1].SibSp.dropna()\n",
    "dead_SibSp = titanic[titanic.Survived == 0].SibSp.dropna()\n",
    "\n",
    "titanic['SibSpIO'] = titanic.SibSp\n",
    "titanic['SibSpIO'].loc[titanic['SibSp'] > 0] = 1\n",
    "titanic['SibSpIO'].loc[titanic['SibSp'] == 0] = 0\n",
    "SibSp_percent = titanic[['Survived', 'SibSpIO']].groupby(['SibSpIO'], as_index=False).mean()\n",
    "\n",
    "test['SibSpIO'] = test.SibSp\n",
    "test['SibSpIO'].loc[test['SibSp'] > 0] = 1\n",
    "test['SibSpIO'].loc[test['SibSp'] == 0] = 0\n",
    "\n",
    "fig = plt.figure(figsize=(20,7))\n",
    "#\n",
    "plt.subplot2grid((1,2), (0,0))\n",
    "plt.hist([survived_SibSp, dead_SibSp], stacked=True, align='left', range=(0,10), bins=10)\n",
    "plt.subplot2grid((1,2), (0,1))\n",
    "sns.barplot(x='SibSpIO', y='Survived', data=SibSp_percent)"
   ]
  },
  {
   "cell_type": "code",
   "execution_count": 14,
   "metadata": {
    "collapsed": false,
    "scrolled": false
   },
   "outputs": [
    {
     "name": "stderr",
     "output_type": "stream",
     "text": [
      "/Users/Tavo/anaconda3/lib/python3.5/site-packages/pandas/core/indexing.py:132: SettingWithCopyWarning: \n",
      "A value is trying to be set on a copy of a slice from a DataFrame\n",
      "\n",
      "See the caveats in the documentation: http://pandas.pydata.org/pandas-docs/stable/indexing.html#indexing-view-versus-copy\n",
      "  self._setitem_with_indexer(indexer, value)\n"
     ]
    },
    {
     "data": {
      "text/plain": [
       "<matplotlib.axes._subplots.AxesSubplot at 0x11a53acc0>"
      ]
     },
     "execution_count": 14,
     "metadata": {},
     "output_type": "execute_result"
    },
    {
     "data": {
      "image/png": "[encoded data removed]",
      "text/plain": [
       "<matplotlib.figure.Figure at 0x11a281ba8>"
      ]
     },
     "metadata": {},
     "output_type": "display_data"
    }
   ],
   "source": [
    "#Combining the two '''Let's start with a simple case and just use the column FamilyIO, ie. traveling alone or accompanied.'''\n",
    "titanic['Family'] = titanic.Parch + titanic.SibSp\n",
    "test['Family'] = test.Parch + test.SibSp\n",
    "\n",
    "survived_Family = titanic[titanic.Survived == 1].Family.dropna()\n",
    "dead_Family = titanic[titanic.Survived == 0].Family.dropna()\n",
    "\n",
    "#Convert to binary variable\n",
    "titanic['FamilyIO'] = titanic.Family\n",
    "titanic['FamilyIO'].loc[titanic['FamilyIO'] > 0] = 1\n",
    "titanic['FamilyIO'].loc[titanic['FamilyIO'] == 0] = 0\n",
    "\n",
    "survived_FamilyIO = titanic[titanic.Survived == 1].FamilyIO.dropna()\n",
    "dead_FamilyIO = titanic[titanic.Survived == 0].FamilyIO.dropna()\n",
    "\n",
    "family_percent = titanic[['Survived', 'FamilyIO']].groupby(['FamilyIO'], as_index=False).mean()\n",
    "\n",
    "test['FamilyIO'] = test.Family\n",
    "test['FamilyIO'].loc[test['FamilyIO'] > 0] = 1\n",
    "test['FamilyIO'].loc[test['FamilyIO'] == 0] = 0\n",
    "\n",
    "fig = plt.figure(figsize=(20,7))\n",
    "#\n",
    "plt.subplot2grid((1,3), (0,0))\n",
    "plt.hist([survived_FamilyIO, dead_FamilyIO], stacked=True, bins=2)\n",
    "plt.subplot2grid((1,3), (0,1))\n",
    "sns.countplot(x='FamilyIO', data=titanic)\n",
    "plt.subplot2grid((1,3), (0,2))\n",
    "sns.barplot(x='FamilyIO', y='Survived', data=family_percent)"
   ]
  },
  {
   "cell_type": "code",
   "execution_count": 15,
   "metadata": {
    "collapsed": false,
    "scrolled": false
   },
   "outputs": [
    {
     "name": "stderr",
     "output_type": "stream",
     "text": [
      "/Users/Tavo/anaconda3/lib/python3.5/site-packages/pandas/core/indexing.py:132: SettingWithCopyWarning: \n",
      "A value is trying to be set on a copy of a slice from a DataFrame\n",
      "\n",
      "See the caveats in the documentation: http://pandas.pydata.org/pandas-docs/stable/indexing.html#indexing-view-versus-copy\n",
      "  self._setitem_with_indexer(indexer, value)\n"
     ]
    },
    {
     "data": {
      "text/plain": [
       "<matplotlib.axes._subplots.AxesSubplot at 0x11a837d30>"
      ]
     },
     "execution_count": 15,
     "metadata": {},
     "output_type": "execute_result"
    },
    {
     "data": {
      "image/png": "[encoded data removed]",
      "text/plain": [
       "<matplotlib.figure.Figure at 0x11a2b4b70>"
      ]
     },
     "metadata": {},
     "output_type": "display_data"
    }
   ],
   "source": [
    "##Sex##\n",
    "'''Shall we distinguish between males, females and children?\n",
    "What is a children? Less than 12, 14, 16?\n",
    "Let's start with the assumption that children means less than 12'''\n",
    "\n",
    "titanic['MaleFemale'] = titanic.Sex\n",
    "titanic['MaleFemale'].loc[titanic.Age <=15] = 'child'\n",
    "titanic['MaleFemale'].loc[(titanic.Age >=60) & (titanic.Sex == 'male')] = 'oldman'\n",
    "titanic['MaleFemale'].loc[(titanic.Age >=60) & (titanic.Sex == 'female')] = 'oldwoman'\n",
    "Sex_percent = titanic[['Survived', 'MaleFemale']].groupby(['MaleFemale'], as_index=False).mean()\n",
    "\n",
    "'''We should also try to understand if there is a correlation between sex and traveling alone\n",
    "We could try that later on'''\n",
    "\n",
    "fig = plt.figure(figsize=(20,20))\n",
    "#\n",
    "plt.subplot2grid((2,2), (1,0))\n",
    "sns.barplot(x='MaleFemale', y='Survived', data=Sex_percent)\n",
    "plt.subplot2grid((2,2), (1,1))\n",
    "sns.countplot(x='MaleFemale', data=titanic)"
   ]
  },
  {
   "cell_type": "code",
   "execution_count": 16,
   "metadata": {
    "collapsed": false,
    "scrolled": true
   },
   "outputs": [
    {
     "name": "stderr",
     "output_type": "stream",
     "text": [
      "/Users/Tavo/anaconda3/lib/python3.5/site-packages/pandas/core/indexing.py:132: SettingWithCopyWarning: \n",
      "A value is trying to be set on a copy of a slice from a DataFrame\n",
      "\n",
      "See the caveats in the documentation: http://pandas.pydata.org/pandas-docs/stable/indexing.html#indexing-view-versus-copy\n",
      "  self._setitem_with_indexer(indexer, value)\n"
     ]
    }
   ],
   "source": [
    "#There are not too many samples for older men and women (>60 y), so I have doubts about increasing the complexity \n",
    "#of the model.\n",
    "#Let's keep it simple for now...\n",
    "\n",
    "titanic['MaleFemale'].loc[(titanic.MaleFemale == 'oldman')] = 'male'\n",
    "titanic['MaleFemale'].loc[(titanic.MaleFemale == 'oldwoman')] = 'female'\n",
    "\n",
    "#Add dummies variable\n",
    "sex_dummies_titanic = pd.get_dummies(titanic.MaleFemale)\n",
    "titanic = titanic.join(sex_dummies_titanic)\n",
    "\n",
    "test['MaleFemale'] = test.Sex\n",
    "test['MaleFemale'].loc[(test.Age <=15)] = 'child'\n",
    "sex_dummies_test = pd.get_dummies(test.MaleFemale)\n",
    "test = test.join(sex_dummies_test)"
   ]
  },
  {
   "cell_type": "code",
   "execution_count": 17,
   "metadata": {
    "collapsed": false
   },
   "outputs": [
    {
     "name": "stdout",
     "output_type": "stream",
     "text": [
      "   child  female  male\n",
      "0    0.0     0.0   1.0\n",
      "1    0.0     1.0   0.0\n",
      "2    0.0     1.0   0.0\n",
      "3    0.0     1.0   0.0\n",
      "4    0.0     0.0   1.0\n"
     ]
    },
    {
     "data": {
      "text/html": [
       "<div>\n",
       "<table border=\"1\" class=\"dataframe\">\n",
       "  <thead>\n",
       "    <tr style=\"text-align: right;\">\n",
       "      <th></th>\n",
       "      <th>PassengerId</th>\n",
       "      <th>Survived</th>\n",
       "      <th>Pclass</th>\n",
       "      <th>Name</th>\n",
       "      <th>Sex</th>\n",
       "      <th>Age</th>\n",
       "      <th>SibSp</th>\n",
       "      <th>Parch</th>\n",
       "      <th>Ticket</th>\n",
       "      <th>Fare</th>\n",
       "      <th>...</th>\n",
       "      <th>Q</th>\n",
       "      <th>S</th>\n",
       "      <th>ParchIO</th>\n",
       "      <th>SibSpIO</th>\n",
       "      <th>Family</th>\n",
       "      <th>FamilyIO</th>\n",
       "      <th>MaleFemale</th>\n",
       "      <th>child</th>\n",
       "      <th>female</th>\n",
       "      <th>male</th>\n",
       "    </tr>\n",
       "  </thead>\n",
       "  <tbody>\n",
       "    <tr>\n",
       "      <th>0</th>\n",
       "      <td>1</td>\n",
       "      <td>0</td>\n",
       "      <td>3</td>\n",
       "      <td>Braund, Mr. Owen Harris</td>\n",
       "      <td>male</td>\n",
       "      <td>22.0</td>\n",
       "      <td>1</td>\n",
       "      <td>0</td>\n",
       "      <td>A/5 21171</td>\n",
       "      <td>7.2500</td>\n",
       "      <td>...</td>\n",
       "      <td>0.0</td>\n",
       "      <td>1.0</td>\n",
       "      <td>0</td>\n",
       "      <td>1</td>\n",
       "      <td>1</td>\n",
       "      <td>1</td>\n",
       "      <td>male</td>\n",
       "      <td>0.0</td>\n",
       "      <td>0.0</td>\n",
       "      <td>1.0</td>\n",
       "    </tr>\n",
       "    <tr>\n",
       "      <th>1</th>\n",
       "      <td>2</td>\n",
       "      <td>1</td>\n",
       "      <td>1</td>\n",
       "      <td>Cumings, Mrs. John Bradley (Florence Briggs Th...</td>\n",
       "      <td>female</td>\n",
       "      <td>38.0</td>\n",
       "      <td>1</td>\n",
       "      <td>0</td>\n",
       "      <td>PC 17599</td>\n",
       "      <td>71.2833</td>\n",
       "      <td>...</td>\n",
       "      <td>0.0</td>\n",
       "      <td>0.0</td>\n",
       "      <td>0</td>\n",
       "      <td>1</td>\n",
       "      <td>1</td>\n",
       "      <td>1</td>\n",
       "      <td>female</td>\n",
       "      <td>0.0</td>\n",
       "      <td>1.0</td>\n",
       "      <td>0.0</td>\n",
       "    </tr>\n",
       "    <tr>\n",
       "      <th>2</th>\n",
       "      <td>3</td>\n",
       "      <td>1</td>\n",
       "      <td>3</td>\n",
       "      <td>Heikkinen, Miss. Laina</td>\n",
       "      <td>female</td>\n",
       "      <td>26.0</td>\n",
       "      <td>0</td>\n",
       "      <td>0</td>\n",
       "      <td>STON/O2. 3101282</td>\n",
       "      <td>7.9250</td>\n",
       "      <td>...</td>\n",
       "      <td>0.0</td>\n",
       "      <td>1.0</td>\n",
       "      <td>0</td>\n",
       "      <td>0</td>\n",
       "      <td>0</td>\n",
       "      <td>0</td>\n",
       "      <td>female</td>\n",
       "      <td>0.0</td>\n",
       "      <td>1.0</td>\n",
       "      <td>0.0</td>\n",
       "    </tr>\n",
       "    <tr>\n",
       "      <th>3</th>\n",
       "      <td>4</td>\n",
       "      <td>1</td>\n",
       "      <td>1</td>\n",
       "      <td>Futrelle, Mrs. Jacques Heath (Lily May Peel)</td>\n",
       "      <td>female</td>\n",
       "      <td>35.0</td>\n",
       "      <td>1</td>\n",
       "      <td>0</td>\n",
       "      <td>113803</td>\n",
       "      <td>53.1000</td>\n",
       "      <td>...</td>\n",
       "      <td>0.0</td>\n",
       "      <td>1.0</td>\n",
       "      <td>0</td>\n",
       "      <td>1</td>\n",
       "      <td>1</td>\n",
       "      <td>1</td>\n",
       "      <td>female</td>\n",
       "      <td>0.0</td>\n",
       "      <td>1.0</td>\n",
       "      <td>0.0</td>\n",
       "    </tr>\n",
       "    <tr>\n",
       "      <th>4</th>\n",
       "      <td>5</td>\n",
       "      <td>0</td>\n",
       "      <td>3</td>\n",
       "      <td>Allen, Mr. William Henry</td>\n",
       "      <td>male</td>\n",
       "      <td>35.0</td>\n",
       "      <td>0</td>\n",
       "      <td>0</td>\n",
       "      <td>373450</td>\n",
       "      <td>8.0500</td>\n",
       "      <td>...</td>\n",
       "      <td>0.0</td>\n",
       "      <td>1.0</td>\n",
       "      <td>0</td>\n",
       "      <td>0</td>\n",
       "      <td>0</td>\n",
       "      <td>0</td>\n",
       "      <td>male</td>\n",
       "      <td>0.0</td>\n",
       "      <td>0.0</td>\n",
       "      <td>1.0</td>\n",
       "    </tr>\n",
       "  </tbody>\n",
       "</table>\n",
       "<p>5 rows × 23 columns</p>\n",
       "</div>"
      ],
      "text/plain": [
       "   PassengerId  Survived  Pclass  \\\n",
       "0            1         0       3   \n",
       "1            2         1       1   \n",
       "2            3         1       3   \n",
       "3            4         1       1   \n",
       "4            5         0       3   \n",
       "\n",
       "                                                Name     Sex   Age  SibSp  \\\n",
       "0                            Braund, Mr. Owen Harris    male  22.0      1   \n",
       "1  Cumings, Mrs. John Bradley (Florence Briggs Th...  female  38.0      1   \n",
       "2                             Heikkinen, Miss. Laina  female  26.0      0   \n",
       "3       Futrelle, Mrs. Jacques Heath (Lily May Peel)  female  35.0      1   \n",
       "4                           Allen, Mr. William Henry    male  35.0      0   \n",
       "\n",
       "   Parch            Ticket     Fare ...     Q    S  ParchIO  SibSpIO  Family  \\\n",
       "0      0         A/5 21171   7.2500 ...   0.0  1.0        0        1       1   \n",
       "1      0          PC 17599  71.2833 ...   0.0  0.0        0        1       1   \n",
       "2      0  STON/O2. 3101282   7.9250 ...   0.0  1.0        0        0       0   \n",
       "3      0            113803  53.1000 ...   0.0  1.0        0        1       1   \n",
       "4      0            373450   8.0500 ...   0.0  1.0        0        0       0   \n",
       "\n",
       "   FamilyIO  MaleFemale  child  female male  \n",
       "0         1        male    0.0     0.0  1.0  \n",
       "1         1      female    0.0     1.0  0.0  \n",
       "2         0      female    0.0     1.0  0.0  \n",
       "3         1      female    0.0     1.0  0.0  \n",
       "4         0        male    0.0     0.0  1.0  \n",
       "\n",
       "[5 rows x 23 columns]"
      ]
     },
     "execution_count": 17,
     "metadata": {},
     "output_type": "execute_result"
    }
   ],
   "source": [
    "print(sex_dummies_titanic.head())\n",
    "titanic.head()"
   ]
  },
  {
   "cell_type": "code",
   "execution_count": 18,
   "metadata": {
    "collapsed": false
   },
   "outputs": [
    {
     "data": {
      "image/png": "[encoded data removed]",
      "text/plain": [
       "<matplotlib.figure.Figure at 0x11948c128>"
      ]
     },
     "metadata": {},
     "output_type": "display_data"
    }
   ],
   "source": [
    "##Pclass##\n",
    "'''The class can be a proxy for the fare paid, which seems to have an effect. \n",
    "Let's investigate the class of travel and if it shows some similarities to the \n",
    "fares variables, we will discard the latter nd use Pclass in the initial prediction attempt'''\n",
    "\n",
    "fig, (axis1, axis2) = plt.subplots(1, 2, figsize=(10, 5))\n",
    "sns.barplot(x='Pclass', y='Fare', data=titanic, ax=axis1)\n",
    "sns.barplot(x='Pclass', y='Survived', data=titanic, ax=axis2)\n",
    "\n",
    "Pclass_dummies_titanic = pd.get_dummies(titanic.Pclass, prefix='clas')\n",
    "titanic = titanic.join(Pclass_dummies_titanic)\n",
    "\n",
    "Pclass_dummies_test = pd.get_dummies(test.Pclass, prefix='clas')\n",
    "test = test.join(Pclass_dummies_test)"
   ]
  },
  {
   "cell_type": "markdown",
   "metadata": {
    "collapsed": true
   },
   "source": [
    "### Conclusions from preliminary analysis\n",
    "From the charts and the preliminary analysis, we could say a few things://\n",
    "-o- Sex:\n",
    "-o- Age:\n",
    "-o- Family members:\n",
    "-o- Cabin: large number of NaNs, so we will ignore for a while. However, there is\n",
    "room for some information there. Cabin start with a letter, which could give information\n",
    "on the location of the cabin? Or is the first number important? What deck were they?\n",
    "However, Could the fare or the class be a proxy for cabin location? \n",
    "-o- Class:\n",
    "-o- Fare:')"
   ]
  },
  {
   "cell_type": "markdown",
   "metadata": {},
   "source": [
    "### Dataframe edition\n",
    "\n",
    "Now let's see our dataframe and make it ready for analysis"
   ]
  },
  {
   "cell_type": "code",
   "execution_count": 19,
   "metadata": {
    "collapsed": false
   },
   "outputs": [
    {
     "name": "stdout",
     "output_type": "stream",
     "text": [
      "<class 'pandas.core.frame.DataFrame'>\n",
      "RangeIndex: 891 entries, 0 to 890\n",
      "Data columns (total 26 columns):\n",
      "PassengerId    891 non-null int64\n",
      "Survived       891 non-null int64\n",
      "Pclass         891 non-null int64\n",
      "Name           891 non-null object\n",
      "Sex            891 non-null object\n",
      "Age            714 non-null float64\n",
      "SibSp          891 non-null int64\n",
      "Parch          891 non-null int64\n",
      "Ticket         891 non-null object\n",
      "Fare           891 non-null float64\n",
      "Cabin          204 non-null object\n",
      "Embarked       889 non-null object\n",
      "C              891 non-null float64\n",
      "Q              891 non-null float64\n",
      "S              891 non-null float64\n",
      "ParchIO        891 non-null int64\n",
      "SibSpIO        891 non-null int64\n",
      "Family         891 non-null int64\n",
      "FamilyIO       891 non-null int64\n",
      "MaleFemale     891 non-null object\n",
      "child          891 non-null float64\n",
      "female         891 non-null float64\n",
      "male           891 non-null float64\n",
      "clas_1         891 non-null float64\n",
      "clas_2         891 non-null float64\n",
      "clas_3         891 non-null float64\n",
      "dtypes: float64(11), int64(9), object(6)\n",
      "memory usage: 181.1+ KB\n"
     ]
    }
   ],
   "source": [
    "titanic.info()\n"
   ]
  },
  {
   "cell_type": "code",
   "execution_count": 20,
   "metadata": {
    "collapsed": false,
    "scrolled": true
   },
   "outputs": [
    {
     "name": "stderr",
     "output_type": "stream",
     "text": [
      "/Users/Tavo/anaconda3/lib/python3.5/site-packages/numpy/lib/function_base.py:3823: RuntimeWarning: Invalid value encountered in percentile\n",
      "  RuntimeWarning)\n"
     ]
    },
    {
     "data": {
      "text/plain": [
       "count    714.000000\n",
       "mean      29.699118\n",
       "std       14.526497\n",
       "min        0.420000\n",
       "25%             NaN\n",
       "50%             NaN\n",
       "75%             NaN\n",
       "max       80.000000\n",
       "Name: Age, dtype: float64"
      ]
     },
     "execution_count": 20,
     "metadata": {},
     "output_type": "execute_result"
    }
   ],
   "source": [
    "titanic.Age.describe()\n"
   ]
  },
  {
   "cell_type": "code",
   "execution_count": 21,
   "metadata": {
    "collapsed": false
   },
   "outputs": [
    {
     "name": "stdout",
     "output_type": "stream",
     "text": [
      "177\n"
     ]
    },
    {
     "data": {
      "text/plain": [
       "0     22.0\n",
       "1     38.0\n",
       "2     26.0\n",
       "3     35.0\n",
       "4     35.0\n",
       "5      NaN\n",
       "6     54.0\n",
       "7      2.0\n",
       "8     27.0\n",
       "9     14.0\n",
       "10     4.0\n",
       "11    58.0\n",
       "12    20.0\n",
       "13    39.0\n",
       "14    14.0\n",
       "Name: Age, dtype: float64"
      ]
     },
     "execution_count": 21,
     "metadata": {},
     "output_type": "execute_result"
    }
   ],
   "source": [
    "print(891-714)\n",
    "\n",
    "titanic.Age.head(15)\n"
   ]
  },
  {
   "cell_type": "code",
   "execution_count": 22,
   "metadata": {
    "collapsed": false,
    "scrolled": true
   },
   "outputs": [
    {
     "name": "stderr",
     "output_type": "stream",
     "text": [
      "/Users/Tavo/anaconda3/lib/python3.5/site-packages/ipykernel/__main__.py:9: SettingWithCopyWarning: \n",
      "A value is trying to be set on a copy of a slice from a DataFrame\n",
      "\n",
      "See the caveats in the documentation: http://pandas.pydata.org/pandas-docs/stable/indexing.html#indexing-view-versus-copy\n",
      "/Users/Tavo/anaconda3/lib/python3.5/site-packages/ipykernel/__main__.py:11: SettingWithCopyWarning: \n",
      "A value is trying to be set on a copy of a slice from a DataFrame\n",
      "\n",
      "See the caveats in the documentation: http://pandas.pydata.org/pandas-docs/stable/indexing.html#indexing-view-versus-copy\n"
     ]
    }
   ],
   "source": [
    "#titanic.csv: two missing values in 'embarked', a few more in 'age'\n",
    "titanic['Embarked'] = titanic['Embarked'].fillna('S')\n",
    "test.Embarked = test.Embarked.fillna('S')\n",
    "#Let's fill the missing ages with samples from a ditribution based on the 714 age values present\n",
    "#We could use the median, or relate the age to the title (Mr., Mrs., Miss). I chose to sample random values\n",
    "#according to a distribution\n",
    "#np.random.normal(loc=26.7, scale=14.5)\n",
    "nan_mask1 = np.isnan(titanic.Age)\n",
    "titanic.Age[nan_mask1] = np.random.randint(0, high=80, size=np.count_nonzero(nan_mask1))\n",
    "nan_mask2 = np.isnan(test.Age)\n",
    "test.Age[nan_mask2] = np.random.randint(0, high=80, size=np.count_nonzero(nan_mask2))\n"
   ]
  },
  {
   "cell_type": "code",
   "execution_count": 23,
   "metadata": {
    "collapsed": false,
    "scrolled": false
   },
   "outputs": [
    {
     "data": {
      "text/plain": [
       "(array([  9.,   9.,  12.,   9.,  11.,   7.,   4.,   4.,   4.,  12.,   2.,\n",
       "          7.,   5.,   8.,  10.,   5.,  19.,  14.,  29.,  29.,  17.,  27.,\n",
       "         29.,  20.,  34.,  25.,  19.,  19.,  30.,  21.,  32.,  20.,  24.,\n",
       "         17.,  19.,  21.,  25.,   7.,  13.,  16.,  19.,   8.,  15.,   7.,\n",
       "          9.,  17.,   5.,   9.,  12.,   7.,  11.,   9.,   7.,   1.,  11.,\n",
       "          6.,   6.,   4.,   7.,   5.,   9.,   5.,   6.,   3.,   7.,   6.,\n",
       "          3.,   0.,   5.,   2.,   3.,   5.,   3.,   2.,   3.,   2.,   0.,\n",
       "          5.,   1.,   1.,   1.,   0.,   0.,   0.,   0.,   0.,   0.,   0.,\n",
       "          0.,   0.,   0.,   0.,   0.,   0.,   0.,   0.,   0.,   0.,   0.,\n",
       "          0.]),\n",
       " array([   0.,    1.,    2.,    3.,    4.,    5.,    6.,    7.,    8.,\n",
       "           9.,   10.,   11.,   12.,   13.,   14.,   15.,   16.,   17.,\n",
       "          18.,   19.,   20.,   21.,   22.,   23.,   24.,   25.,   26.,\n",
       "          27.,   28.,   29.,   30.,   31.,   32.,   33.,   34.,   35.,\n",
       "          36.,   37.,   38.,   39.,   40.,   41.,   42.,   43.,   44.,\n",
       "          45.,   46.,   47.,   48.,   49.,   50.,   51.,   52.,   53.,\n",
       "          54.,   55.,   56.,   57.,   58.,   59.,   60.,   61.,   62.,\n",
       "          63.,   64.,   65.,   66.,   67.,   68.,   69.,   70.,   71.,\n",
       "          72.,   73.,   74.,   75.,   76.,   77.,   78.,   79.,   80.,\n",
       "          81.,   82.,   83.,   84.,   85.,   86.,   87.,   88.,   89.,\n",
       "          90.,   91.,   92.,   93.,   94.,   95.,   96.,   97.,   98.,\n",
       "          99.,  100.]),\n",
       " <a list of 100 Patch objects>)"
      ]
     },
     "execution_count": 23,
     "metadata": {},
     "output_type": "execute_result"
    },
    {
     "data": {
      "image/png": "[encoded data removed]",
      "text/plain": [
       "<matplotlib.figure.Figure at 0x11bb35400>"
      ]
     },
     "metadata": {},
     "output_type": "display_data"
    }
   ],
   "source": [
    "titanic.Age.describe()\n",
    "plt.hist(titanic.Age, align='left', range=(0,100), bins=100)\n"
   ]
  },
  {
   "cell_type": "code",
   "execution_count": 24,
   "metadata": {
    "collapsed": false
   },
   "outputs": [
    {
     "data": {
      "text/html": [
       "<div>\n",
       "<table border=\"1\" class=\"dataframe\">\n",
       "  <thead>\n",
       "    <tr style=\"text-align: right;\">\n",
       "      <th></th>\n",
       "      <th>PassengerId</th>\n",
       "      <th>Survived</th>\n",
       "      <th>Pclass</th>\n",
       "      <th>Name</th>\n",
       "      <th>Sex</th>\n",
       "      <th>Age</th>\n",
       "      <th>SibSp</th>\n",
       "      <th>Parch</th>\n",
       "      <th>Ticket</th>\n",
       "      <th>Fare</th>\n",
       "      <th>...</th>\n",
       "      <th>SibSpIO</th>\n",
       "      <th>Family</th>\n",
       "      <th>FamilyIO</th>\n",
       "      <th>MaleFemale</th>\n",
       "      <th>child</th>\n",
       "      <th>female</th>\n",
       "      <th>male</th>\n",
       "      <th>clas_1</th>\n",
       "      <th>clas_2</th>\n",
       "      <th>clas_3</th>\n",
       "    </tr>\n",
       "  </thead>\n",
       "  <tbody>\n",
       "    <tr>\n",
       "      <th>0</th>\n",
       "      <td>1</td>\n",
       "      <td>0</td>\n",
       "      <td>3</td>\n",
       "      <td>Braund, Mr. Owen Harris</td>\n",
       "      <td>male</td>\n",
       "      <td>22.0</td>\n",
       "      <td>1</td>\n",
       "      <td>0</td>\n",
       "      <td>A/5 21171</td>\n",
       "      <td>7.2500</td>\n",
       "      <td>...</td>\n",
       "      <td>1</td>\n",
       "      <td>1</td>\n",
       "      <td>1</td>\n",
       "      <td>male</td>\n",
       "      <td>0.0</td>\n",
       "      <td>0.0</td>\n",
       "      <td>1.0</td>\n",
       "      <td>0.0</td>\n",
       "      <td>0.0</td>\n",
       "      <td>1.0</td>\n",
       "    </tr>\n",
       "    <tr>\n",
       "      <th>1</th>\n",
       "      <td>2</td>\n",
       "      <td>1</td>\n",
       "      <td>1</td>\n",
       "      <td>Cumings, Mrs. John Bradley (Florence Briggs Th...</td>\n",
       "      <td>female</td>\n",
       "      <td>38.0</td>\n",
       "      <td>1</td>\n",
       "      <td>0</td>\n",
       "      <td>PC 17599</td>\n",
       "      <td>71.2833</td>\n",
       "      <td>...</td>\n",
       "      <td>1</td>\n",
       "      <td>1</td>\n",
       "      <td>1</td>\n",
       "      <td>female</td>\n",
       "      <td>0.0</td>\n",
       "      <td>1.0</td>\n",
       "      <td>0.0</td>\n",
       "      <td>1.0</td>\n",
       "      <td>0.0</td>\n",
       "      <td>0.0</td>\n",
       "    </tr>\n",
       "    <tr>\n",
       "      <th>2</th>\n",
       "      <td>3</td>\n",
       "      <td>1</td>\n",
       "      <td>3</td>\n",
       "      <td>Heikkinen, Miss. Laina</td>\n",
       "      <td>female</td>\n",
       "      <td>26.0</td>\n",
       "      <td>0</td>\n",
       "      <td>0</td>\n",
       "      <td>STON/O2. 3101282</td>\n",
       "      <td>7.9250</td>\n",
       "      <td>...</td>\n",
       "      <td>0</td>\n",
       "      <td>0</td>\n",
       "      <td>0</td>\n",
       "      <td>female</td>\n",
       "      <td>0.0</td>\n",
       "      <td>1.0</td>\n",
       "      <td>0.0</td>\n",
       "      <td>0.0</td>\n",
       "      <td>0.0</td>\n",
       "      <td>1.0</td>\n",
       "    </tr>\n",
       "    <tr>\n",
       "      <th>3</th>\n",
       "      <td>4</td>\n",
       "      <td>1</td>\n",
       "      <td>1</td>\n",
       "      <td>Futrelle, Mrs. Jacques Heath (Lily May Peel)</td>\n",
       "      <td>female</td>\n",
       "      <td>35.0</td>\n",
       "      <td>1</td>\n",
       "      <td>0</td>\n",
       "      <td>113803</td>\n",
       "      <td>53.1000</td>\n",
       "      <td>...</td>\n",
       "      <td>1</td>\n",
       "      <td>1</td>\n",
       "      <td>1</td>\n",
       "      <td>female</td>\n",
       "      <td>0.0</td>\n",
       "      <td>1.0</td>\n",
       "      <td>0.0</td>\n",
       "      <td>1.0</td>\n",
       "      <td>0.0</td>\n",
       "      <td>0.0</td>\n",
       "    </tr>\n",
       "    <tr>\n",
       "      <th>4</th>\n",
       "      <td>5</td>\n",
       "      <td>0</td>\n",
       "      <td>3</td>\n",
       "      <td>Allen, Mr. William Henry</td>\n",
       "      <td>male</td>\n",
       "      <td>35.0</td>\n",
       "      <td>0</td>\n",
       "      <td>0</td>\n",
       "      <td>373450</td>\n",
       "      <td>8.0500</td>\n",
       "      <td>...</td>\n",
       "      <td>0</td>\n",
       "      <td>0</td>\n",
       "      <td>0</td>\n",
       "      <td>male</td>\n",
       "      <td>0.0</td>\n",
       "      <td>0.0</td>\n",
       "      <td>1.0</td>\n",
       "      <td>0.0</td>\n",
       "      <td>0.0</td>\n",
       "      <td>1.0</td>\n",
       "    </tr>\n",
       "  </tbody>\n",
       "</table>\n",
       "<p>5 rows × 26 columns</p>\n",
       "</div>"
      ],
      "text/plain": [
       "   PassengerId  Survived  Pclass  \\\n",
       "0            1         0       3   \n",
       "1            2         1       1   \n",
       "2            3         1       3   \n",
       "3            4         1       1   \n",
       "4            5         0       3   \n",
       "\n",
       "                                                Name     Sex   Age  SibSp  \\\n",
       "0                            Braund, Mr. Owen Harris    male  22.0      1   \n",
       "1  Cumings, Mrs. John Bradley (Florence Briggs Th...  female  38.0      1   \n",
       "2                             Heikkinen, Miss. Laina  female  26.0      0   \n",
       "3       Futrelle, Mrs. Jacques Heath (Lily May Peel)  female  35.0      1   \n",
       "4                           Allen, Mr. William Henry    male  35.0      0   \n",
       "\n",
       "   Parch            Ticket     Fare  ...   SibSpIO Family  FamilyIO  \\\n",
       "0      0         A/5 21171   7.2500  ...         1      1         1   \n",
       "1      0          PC 17599  71.2833  ...         1      1         1   \n",
       "2      0  STON/O2. 3101282   7.9250  ...         0      0         0   \n",
       "3      0            113803  53.1000  ...         1      1         1   \n",
       "4      0            373450   8.0500  ...         0      0         0   \n",
       "\n",
       "   MaleFemale  child  female  male  clas_1  clas_2 clas_3  \n",
       "0        male    0.0     0.0   1.0     0.0     0.0    1.0  \n",
       "1      female    0.0     1.0   0.0     1.0     0.0    0.0  \n",
       "2      female    0.0     1.0   0.0     0.0     0.0    1.0  \n",
       "3      female    0.0     1.0   0.0     1.0     0.0    0.0  \n",
       "4        male    0.0     0.0   1.0     0.0     0.0    1.0  \n",
       "\n",
       "[5 rows x 26 columns]"
      ]
     },
     "execution_count": 24,
     "metadata": {},
     "output_type": "execute_result"
    }
   ],
   "source": [
    "titanic.head()"
   ]
  },
  {
   "cell_type": "code",
   "execution_count": 25,
   "metadata": {
    "collapsed": false
   },
   "outputs": [
    {
     "name": "stdout",
     "output_type": "stream",
     "text": [
      "<class 'pandas.core.frame.DataFrame'>\n",
      "RangeIndex: 891 entries, 0 to 890\n",
      "Data columns (total 26 columns):\n",
      "PassengerId    891 non-null int64\n",
      "Survived       891 non-null int64\n",
      "Pclass         891 non-null int64\n",
      "Name           891 non-null object\n",
      "Sex            891 non-null object\n",
      "Age            891 non-null float64\n",
      "SibSp          891 non-null int64\n",
      "Parch          891 non-null int64\n",
      "Ticket         891 non-null object\n",
      "Fare           891 non-null float64\n",
      "Cabin          204 non-null object\n",
      "Embarked       891 non-null object\n",
      "C              891 non-null float64\n",
      "Q              891 non-null float64\n",
      "S              891 non-null float64\n",
      "ParchIO        891 non-null int64\n",
      "SibSpIO        891 non-null int64\n",
      "Family         891 non-null int64\n",
      "FamilyIO       891 non-null int64\n",
      "MaleFemale     891 non-null object\n",
      "child          891 non-null float64\n",
      "female         891 non-null float64\n",
      "male           891 non-null float64\n",
      "clas_1         891 non-null float64\n",
      "clas_2         891 non-null float64\n",
      "clas_3         891 non-null float64\n",
      "dtypes: float64(11), int64(9), object(6)\n",
      "memory usage: 181.1+ KB\n",
      "---------\n",
      "<class 'pandas.core.frame.DataFrame'>\n",
      "RangeIndex: 418 entries, 0 to 417\n",
      "Data columns (total 25 columns):\n",
      "PassengerId    418 non-null int64\n",
      "Pclass         418 non-null int64\n",
      "Name           418 non-null object\n",
      "Sex            418 non-null object\n",
      "Age            418 non-null float64\n",
      "SibSp          418 non-null int64\n",
      "Parch          418 non-null int64\n",
      "Ticket         418 non-null object\n",
      "Fare           417 non-null float64\n",
      "Cabin          91 non-null object\n",
      "Embarked       418 non-null object\n",
      "C              418 non-null float64\n",
      "Q              418 non-null float64\n",
      "S              418 non-null float64\n",
      "ParchIO        418 non-null int64\n",
      "SibSpIO        418 non-null int64\n",
      "Family         418 non-null int64\n",
      "FamilyIO       418 non-null int64\n",
      "MaleFemale     418 non-null object\n",
      "child          418 non-null float64\n",
      "female         418 non-null float64\n",
      "male           418 non-null float64\n",
      "clas_1         418 non-null float64\n",
      "clas_2         418 non-null float64\n",
      "clas_3         418 non-null float64\n",
      "dtypes: float64(11), int64(8), object(6)\n",
      "memory usage: 81.7+ KB\n"
     ]
    }
   ],
   "source": [
    "titanic.info()\n",
    "print('---------')\n",
    "test.info()"
   ]
  },
  {
   "cell_type": "markdown",
   "metadata": {},
   "source": [
    "We need to drop the columns that we consider either \n",
    "\n",
    "1) Irrelevant / No prediction power or \n",
    "\n",
    "2) No needed for our required level of complexity. \n",
    "\n",
    "I will leave the embarking port for now, even if this variable could be rather correlated to some other, or mean nothing too. \n",
    "\n",
    "Simplifications for initial attempt:\n",
    "\n",
    "--keep separate Parch and SibSp dummy variables\n",
    "\n",
    "--Ignore age \n",
    "\n",
    "--keep explicit variables for Pclass=3 and for 'child'"
   ]
  },
  {
   "cell_type": "code",
   "execution_count": 26,
   "metadata": {
    "collapsed": false
   },
   "outputs": [],
   "source": [
    "features = ['PassengerId', 'Pclass', 'Name', 'Sex', 'SibSp', 'Parch', 'Ticket', 'Fare', 'Cabin', 'Embarked', 'Family', 'FamilyIO', 'MaleFemale']\n",
    "titanic = titanic.drop(features, axis=1)\n",
    "test = test.drop(features, axis=1)\n"
   ]
  },
  {
   "cell_type": "code",
   "execution_count": 27,
   "metadata": {
    "collapsed": false
   },
   "outputs": [
    {
     "data": {
      "text/html": [
       "<div>\n",
       "<table border=\"1\" class=\"dataframe\">\n",
       "  <thead>\n",
       "    <tr style=\"text-align: right;\">\n",
       "      <th></th>\n",
       "      <th>Age</th>\n",
       "      <th>C</th>\n",
       "      <th>Q</th>\n",
       "      <th>S</th>\n",
       "      <th>ParchIO</th>\n",
       "      <th>SibSpIO</th>\n",
       "      <th>child</th>\n",
       "      <th>female</th>\n",
       "      <th>male</th>\n",
       "      <th>clas_1</th>\n",
       "      <th>clas_2</th>\n",
       "      <th>clas_3</th>\n",
       "    </tr>\n",
       "  </thead>\n",
       "  <tbody>\n",
       "    <tr>\n",
       "      <th>0</th>\n",
       "      <td>34.5</td>\n",
       "      <td>0.0</td>\n",
       "      <td>1.0</td>\n",
       "      <td>0.0</td>\n",
       "      <td>0</td>\n",
       "      <td>0</td>\n",
       "      <td>0.0</td>\n",
       "      <td>0.0</td>\n",
       "      <td>1.0</td>\n",
       "      <td>0.0</td>\n",
       "      <td>0.0</td>\n",
       "      <td>1.0</td>\n",
       "    </tr>\n",
       "    <tr>\n",
       "      <th>1</th>\n",
       "      <td>47.0</td>\n",
       "      <td>0.0</td>\n",
       "      <td>0.0</td>\n",
       "      <td>1.0</td>\n",
       "      <td>0</td>\n",
       "      <td>1</td>\n",
       "      <td>0.0</td>\n",
       "      <td>1.0</td>\n",
       "      <td>0.0</td>\n",
       "      <td>0.0</td>\n",
       "      <td>0.0</td>\n",
       "      <td>1.0</td>\n",
       "    </tr>\n",
       "    <tr>\n",
       "      <th>2</th>\n",
       "      <td>62.0</td>\n",
       "      <td>0.0</td>\n",
       "      <td>1.0</td>\n",
       "      <td>0.0</td>\n",
       "      <td>0</td>\n",
       "      <td>0</td>\n",
       "      <td>0.0</td>\n",
       "      <td>0.0</td>\n",
       "      <td>1.0</td>\n",
       "      <td>0.0</td>\n",
       "      <td>1.0</td>\n",
       "      <td>0.0</td>\n",
       "    </tr>\n",
       "    <tr>\n",
       "      <th>3</th>\n",
       "      <td>27.0</td>\n",
       "      <td>0.0</td>\n",
       "      <td>0.0</td>\n",
       "      <td>1.0</td>\n",
       "      <td>0</td>\n",
       "      <td>0</td>\n",
       "      <td>0.0</td>\n",
       "      <td>0.0</td>\n",
       "      <td>1.0</td>\n",
       "      <td>0.0</td>\n",
       "      <td>0.0</td>\n",
       "      <td>1.0</td>\n",
       "    </tr>\n",
       "    <tr>\n",
       "      <th>4</th>\n",
       "      <td>22.0</td>\n",
       "      <td>0.0</td>\n",
       "      <td>0.0</td>\n",
       "      <td>1.0</td>\n",
       "      <td>1</td>\n",
       "      <td>1</td>\n",
       "      <td>0.0</td>\n",
       "      <td>1.0</td>\n",
       "      <td>0.0</td>\n",
       "      <td>0.0</td>\n",
       "      <td>0.0</td>\n",
       "      <td>1.0</td>\n",
       "    </tr>\n",
       "  </tbody>\n",
       "</table>\n",
       "</div>"
      ],
      "text/plain": [
       "    Age    C    Q    S  ParchIO  SibSpIO  child  female  male  clas_1  clas_2  \\\n",
       "0  34.5  0.0  1.0  0.0        0        0    0.0     0.0   1.0     0.0     0.0   \n",
       "1  47.0  0.0  0.0  1.0        0        1    0.0     1.0   0.0     0.0     0.0   \n",
       "2  62.0  0.0  1.0  0.0        0        0    0.0     0.0   1.0     0.0     1.0   \n",
       "3  27.0  0.0  0.0  1.0        0        0    0.0     0.0   1.0     0.0     0.0   \n",
       "4  22.0  0.0  0.0  1.0        1        1    0.0     1.0   0.0     0.0     0.0   \n",
       "\n",
       "   clas_3  \n",
       "0     1.0  \n",
       "1     1.0  \n",
       "2     0.0  \n",
       "3     1.0  \n",
       "4     1.0  "
      ]
     },
     "execution_count": 27,
     "metadata": {},
     "output_type": "execute_result"
    }
   ],
   "source": [
    "test.head()\n"
   ]
  },
  {
   "cell_type": "markdown",
   "metadata": {},
   "source": [
    "### Analysis"
   ]
  },
  {
   "cell_type": "code",
   "execution_count": 28,
   "metadata": {
    "collapsed": true
   },
   "outputs": [],
   "source": [
    "'''First let's define a function for extracting the fitting scores fo the different models\\\n",
    "Extracted from the model written by the Kaggle user 'vinceallenvince' THANKS'''\n",
    "\n",
    "def check_classifiers(X, y):\n",
    "    \"\"\"\n",
    "    Returns a sorted list of accuracy scores from fitting and scoring passed data\n",
    "    against several alogrithms.\n",
    "    \"\"\"\n",
    "    _cv = 3\n",
    "    classifier_score = {}\n",
    "    \n",
    "    scores = cross_val_score(LogisticRegression(), X, y, cv=_cv)\n",
    "    classifier_score['LogisticRegression'] = scores.mean()\n",
    "    \n",
    "    scores = cross_val_score(KNeighborsClassifier(), X, y, cv=_cv)\n",
    "    classifier_score['KNeighborsClassifier'] = scores.mean()\n",
    "    \n",
    "    scores = cross_val_score(RandomForestClassifier(), X, y, cv=_cv)\n",
    "    classifier_score['RandomForestClassifier'] = scores.mean()\n",
    "    \n",
    "    scores = cross_val_score(SVC(), X, y, cv=_cv)\n",
    "    classifier_score['SVC'] = scores.mean()\n",
    "    \n",
    "    scores = cross_val_score(GaussianNB(), X, y, cv=_cv)\n",
    "    classifier_score['GaussianNB'] = scores.mean()\n",
    "\n",
    "    #return sorted(classifier_score.items(), key=operator.itemgetter(1), reverse=True)\n",
    "    return sorted(classifier_score.items(), reverse=True)\n",
    "\n"
   ]
  },
  {
   "cell_type": "code",
   "execution_count": 29,
   "metadata": {
    "collapsed": false
   },
   "outputs": [
    {
     "data": {
      "text/plain": [
       "[('SVC', 0.81705948372615034),\n",
       " ('RandomForestClassifier', 0.8125701459034792),\n",
       " ('LogisticRegression', 0.8058361391694725),\n",
       " ('KNeighborsClassifier', 0.8125701459034792),\n",
       " ('GaussianNB', 0.75420875420875422)]"
      ]
     },
     "execution_count": 29,
     "metadata": {},
     "output_type": "execute_result"
    }
   ],
   "source": [
    "features = ['C', 'Q', 'S', 'ParchIO', 'SibSpIO', 'child', 'female', 'male', 'clas_1', 'clas_2', 'clas_3']\n",
    "X_train = titanic[features]\n",
    "y_train = titanic.Survived\n",
    "\n",
    "check_classifiers(X_train, y_train)"
   ]
  },
  {
   "cell_type": "code",
   "execution_count": 30,
   "metadata": {
    "collapsed": true
   },
   "outputs": [],
   "source": [
    "titanic['nullhyp'] = 0"
   ]
  },
  {
   "cell_type": "code",
   "execution_count": 31,
   "metadata": {
    "collapsed": false
   },
   "outputs": [
    {
     "data": {
      "text/html": [
       "<div>\n",
       "<table border=\"1\" class=\"dataframe\">\n",
       "  <thead>\n",
       "    <tr style=\"text-align: right;\">\n",
       "      <th></th>\n",
       "      <th>Survived</th>\n",
       "      <th>Age</th>\n",
       "      <th>C</th>\n",
       "      <th>Q</th>\n",
       "      <th>S</th>\n",
       "      <th>ParchIO</th>\n",
       "      <th>SibSpIO</th>\n",
       "      <th>child</th>\n",
       "      <th>female</th>\n",
       "      <th>male</th>\n",
       "      <th>clas_1</th>\n",
       "      <th>clas_2</th>\n",
       "      <th>clas_3</th>\n",
       "      <th>nullhyp</th>\n",
       "    </tr>\n",
       "  </thead>\n",
       "  <tbody>\n",
       "    <tr>\n",
       "      <th>0</th>\n",
       "      <td>0</td>\n",
       "      <td>22.0</td>\n",
       "      <td>0.0</td>\n",
       "      <td>0.0</td>\n",
       "      <td>1.0</td>\n",
       "      <td>0</td>\n",
       "      <td>1</td>\n",
       "      <td>0.0</td>\n",
       "      <td>0.0</td>\n",
       "      <td>1.0</td>\n",
       "      <td>0.0</td>\n",
       "      <td>0.0</td>\n",
       "      <td>1.0</td>\n",
       "      <td>0</td>\n",
       "    </tr>\n",
       "    <tr>\n",
       "      <th>1</th>\n",
       "      <td>1</td>\n",
       "      <td>38.0</td>\n",
       "      <td>1.0</td>\n",
       "      <td>0.0</td>\n",
       "      <td>0.0</td>\n",
       "      <td>0</td>\n",
       "      <td>1</td>\n",
       "      <td>0.0</td>\n",
       "      <td>1.0</td>\n",
       "      <td>0.0</td>\n",
       "      <td>1.0</td>\n",
       "      <td>0.0</td>\n",
       "      <td>0.0</td>\n",
       "      <td>0</td>\n",
       "    </tr>\n",
       "    <tr>\n",
       "      <th>2</th>\n",
       "      <td>1</td>\n",
       "      <td>26.0</td>\n",
       "      <td>0.0</td>\n",
       "      <td>0.0</td>\n",
       "      <td>1.0</td>\n",
       "      <td>0</td>\n",
       "      <td>0</td>\n",
       "      <td>0.0</td>\n",
       "      <td>1.0</td>\n",
       "      <td>0.0</td>\n",
       "      <td>0.0</td>\n",
       "      <td>0.0</td>\n",
       "      <td>1.0</td>\n",
       "      <td>0</td>\n",
       "    </tr>\n",
       "    <tr>\n",
       "      <th>3</th>\n",
       "      <td>1</td>\n",
       "      <td>35.0</td>\n",
       "      <td>0.0</td>\n",
       "      <td>0.0</td>\n",
       "      <td>1.0</td>\n",
       "      <td>0</td>\n",
       "      <td>1</td>\n",
       "      <td>0.0</td>\n",
       "      <td>1.0</td>\n",
       "      <td>0.0</td>\n",
       "      <td>1.0</td>\n",
       "      <td>0.0</td>\n",
       "      <td>0.0</td>\n",
       "      <td>0</td>\n",
       "    </tr>\n",
       "    <tr>\n",
       "      <th>4</th>\n",
       "      <td>0</td>\n",
       "      <td>35.0</td>\n",
       "      <td>0.0</td>\n",
       "      <td>0.0</td>\n",
       "      <td>1.0</td>\n",
       "      <td>0</td>\n",
       "      <td>0</td>\n",
       "      <td>0.0</td>\n",
       "      <td>0.0</td>\n",
       "      <td>1.0</td>\n",
       "      <td>0.0</td>\n",
       "      <td>0.0</td>\n",
       "      <td>1.0</td>\n",
       "      <td>0</td>\n",
       "    </tr>\n",
       "  </tbody>\n",
       "</table>\n",
       "</div>"
      ],
      "text/plain": [
       "   Survived   Age    C    Q    S  ParchIO  SibSpIO  child  female  male  \\\n",
       "0         0  22.0  0.0  0.0  1.0        0        1    0.0     0.0   1.0   \n",
       "1         1  38.0  1.0  0.0  0.0        0        1    0.0     1.0   0.0   \n",
       "2         1  26.0  0.0  0.0  1.0        0        0    0.0     1.0   0.0   \n",
       "3         1  35.0  0.0  0.0  1.0        0        1    0.0     1.0   0.0   \n",
       "4         0  35.0  0.0  0.0  1.0        0        0    0.0     0.0   1.0   \n",
       "\n",
       "   clas_1  clas_2  clas_3  nullhyp  \n",
       "0     0.0     0.0     1.0        0  \n",
       "1     1.0     0.0     0.0        0  \n",
       "2     0.0     0.0     1.0        0  \n",
       "3     1.0     0.0     0.0        0  \n",
       "4     0.0     0.0     1.0        0  "
      ]
     },
     "execution_count": 31,
     "metadata": {},
     "output_type": "execute_result"
    }
   ],
   "source": [
    "titanic.head()\n"
   ]
  },
  {
   "cell_type": "code",
   "execution_count": 32,
   "metadata": {
    "collapsed": false
   },
   "outputs": [
    {
     "data": {
      "text/plain": [
       "[('SVC', 0.61616161616161613),\n",
       " ('RandomForestClassifier', 0.61616161616161613),\n",
       " ('LogisticRegression', 0.61616161616161613),\n",
       " ('KNeighborsClassifier', 0.61616161616161613),\n",
       " ('GaussianNB', 0.61616161616161613)]"
      ]
     },
     "execution_count": 32,
     "metadata": {},
     "output_type": "execute_result"
    }
   ],
   "source": [
    "features = ['nullhyp']\n",
    "X_train = titanic[features]\n",
    "y_train = titanic.Survived\n",
    "\n",
    "check_classifiers(X_train, y_train)"
   ]
  },
  {
   "cell_type": "code",
   "execution_count": 33,
   "metadata": {
    "collapsed": false
   },
   "outputs": [
    {
     "data": {
      "text/plain": [
       "[('SVC', 0.81481481481481488),\n",
       " ('RandomForestClassifier', 0.8136924803591471),\n",
       " ('LogisticRegression', 0.8125701459034792),\n",
       " ('KNeighborsClassifier', 0.81593714927048266),\n",
       " ('GaussianNB', 0.78114478114478114)]"
      ]
     },
     "execution_count": 33,
     "metadata": {},
     "output_type": "execute_result"
    }
   ],
   "source": [
    "features = ['ParchIO', 'SibSpIO', 'child', 'female', 'male', 'clas_1', 'clas_2', 'clas_3']\n",
    "X_train = titanic[features]\n",
    "y_train = titanic.Survived\n",
    "\n",
    "check_classifiers(X_train, y_train)"
   ]
  },
  {
   "cell_type": "code",
   "execution_count": 34,
   "metadata": {
    "collapsed": false
   },
   "outputs": [
    {
     "data": {
      "text/plain": [
       "LogisticRegression(C=1e+50, class_weight=None, dual=False, fit_intercept=True,\n",
       "          intercept_scaling=1, max_iter=100, multi_class='ovr', n_jobs=1,\n",
       "          penalty='l2', random_state=None, solver='liblinear', tol=0.0001,\n",
       "          verbose=0, warm_start=False)"
      ]
     },
     "execution_count": 34,
     "metadata": {},
     "output_type": "execute_result"
    }
   ],
   "source": [
    "model_lr1 = LogisticRegression(C=1e50)\n",
    "model_lr1.fit(X_train, y_train)"
   ]
  },
  {
   "cell_type": "code",
   "execution_count": 35,
   "metadata": {
    "collapsed": false
   },
   "outputs": [
    {
     "data": {
      "text/plain": [
       "array([[-0.46714525, -0.33703822,  1.19824541,  1.18588112, -1.94972702,\n",
       "         1.22918996,  0.18212641, -0.97691686]])"
      ]
     },
     "execution_count": 35,
     "metadata": {},
     "output_type": "execute_result"
    }
   ],
   "source": [
    "model_lr1.intercept_\n",
    "model_lr1.coef_"
   ]
  },
  {
   "cell_type": "code",
   "execution_count": 36,
   "metadata": {
    "collapsed": false
   },
   "outputs": [
    {
     "data": {
      "text/plain": [
       "array([[ 0.62678904,  0.71388156,  3.31429657,  3.27356996,  0.14231291,\n",
       "         3.41845932,  1.19976585,  0.37647002]])"
      ]
     },
     "execution_count": 36,
     "metadata": {},
     "output_type": "execute_result"
    }
   ],
   "source": [
    "np.exp(model_lr1.intercept_)\n",
    "np.exp(model_lr1.coef_)\n"
   ]
  },
  {
   "cell_type": "code",
   "execution_count": 37,
   "metadata": {
    "collapsed": false
   },
   "outputs": [
    {
     "data": {
      "text/plain": [
       "array([[494,  55],\n",
       "       [104, 238]])"
      ]
     },
     "execution_count": 37,
     "metadata": {},
     "output_type": "execute_result"
    }
   ],
   "source": [
    "confusion_matrix(y_train, model_lr1.predict(X_train))"
   ]
  },
  {
   "cell_type": "code",
   "execution_count": null,
   "metadata": {
    "collapsed": true
   },
   "outputs": [],
   "source": []
  }
 ],
 "metadata": {
  "kernelspec": {
   "display_name": "Python 3",
   "language": "python",
   "name": "python3"
  },
  "language_info": {
   "codemirror_mode": {
    "name": "ipython",
    "version": 3
   },
   "file_extension": ".py",
   "mimetype": "text/x-python",
   "name": "python",
   "nbconvert_exporter": "python",
   "pygments_lexer": "ipython3",
   "version": "3.5.2"
  }
 },
 "nbformat": 4,
 "nbformat_minor": 0
}
